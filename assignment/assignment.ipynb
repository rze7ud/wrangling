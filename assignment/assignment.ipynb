{
  "cells": [
    {
      "cell_type": "markdown",
      "id": "13ad028b-72b7-43ed-aa78-96fd4e518040",
      "metadata": {
        "id": "13ad028b-72b7-43ed-aa78-96fd4e518040"
      },
      "source": [
        "# Assignment: Data Wrangling\n",
        "## `! git clone https://github.com/DS3001/wrangling`\n",
        "## Do Q2, and one of Q1 or Q3."
      ]
    },
    {
      "cell_type": "markdown",
      "id": "5735a4d4-8be8-433a-a351-70eb8002e632",
      "metadata": {
        "id": "5735a4d4-8be8-433a-a351-70eb8002e632"
      },
      "source": [
        "**Q1.** Open the \"tidy_data.pdf\" document in the repo, which is a paper called Tidy Data by Hadley Wickham.\n",
        "\n",
        "  1. Read the abstract. What is this paper about?\n",
        "  2. Read the introduction. What is the \"tidy data standard\" intended to accomplish?\n",
        "  3. Read the intro to section 2. What does this sentence mean: \"Like families, tidy datasets are all alike but every messy dataset is messy in its own way.\" What does this sentence mean: \"For a given dataset, it’s usually easy to figure out what are observations and what are variables, but it is surprisingly difficult to precisely define variables and observations in general.\"\n",
        "  4. Read Section 2.2. How does Wickham define values, variables, and observations?\n",
        "  5. How is \"Tidy Data\" defined in section 2.3?\n",
        "  6. Read the intro to Section 3 and Section 3.1. What are the 5 most common problems with messy datasets? Why are the data in Table 4 messy? What is \"melting\" a dataset?\n",
        "  7. Why, specifically, is table 11 messy but table 12 tidy and \"molten\"?\n",
        "  8. Read Section 6. What is the \"chicken-and-egg\" problem with focusing on tidy data? What does Wickham hope happens in the future with further work on the subject of data wrangling?"
      ]
    },
    {
      "cell_type": "markdown",
      "source": [
        "****\n",
        "**Answers:**\n",
        "1. **This paper is about data tidying: a method of cleaning data with a specific structure that makes it more easy/efficient to model and visualize**\n",
        "2. **The tidy data standard intends to provide a framework that simplifies intitial data cleaning process, therefore facilitating a focus on the analysis rather than the logistics of the data**\n",
        "3. **The first sentence explains that when a dataset is tidy, it usually is very similar to other tidy datasets and easy to manipulate. On the other hand, if a dataset is messy, it likely has its own unique intricacies that can be much more difficult to handle case by case. The second sentence explains that the process of interpreting the meaning behind the name of a variable is hard to find on its own without further explanation of what it is being used for.**\n",
        "4. **Values: Numbers (quantitative) or strings (qualitative). Variables: Contains all values that measure the same underlying attribute across units. Obervations: Contains all values measured on the same unit across attributes.**\n",
        "5. **Tidy Data: standard way of mapping the meaning of a dataset to its structure: Each variable forms a column, each observation forms a row and each type of observational unit forms a table.**\n",
        "6. **The five most common problems with messy datasets are: Column headers are values instead of variable names, multiple variables are stored in one column, variables are stored in both rows and columns, multiple types of obervational units are stored in the same table and a single observational unit is stored in multiple tables. The data in Table 4 is messy because both religion and income are variables and therefore should be columns. Melting a dataset means that you stack columns into new rows, making the dataset taller.**\n",
        "7. **Table 11 is messy because it separates the days of the months into separate columns. Table 12 is molten because it combines the columns year, month and days into one variable: date.**\n",
        "8. **The chicken-and-egg problem of tidy data occurs since tidy tools are created to be used on tidy datasets. This means that tidy data has a potential to be a false start and many tools will have to be redeveloped for a future method of cleaning data. Wickham hopes that there could be more emphasis on studies that can be done on tasks during the process of data cleaning.**\n",
        "****"
      ],
      "metadata": {
        "id": "o7mMYr9HphdX"
      },
      "id": "o7mMYr9HphdX"
    },
    {
      "cell_type": "markdown",
      "id": "da879ea7-8aac-48a3-b6c2-daea56d2e072",
      "metadata": {
        "id": "da879ea7-8aac-48a3-b6c2-daea56d2e072"
      },
      "source": [
        "**Q2.** This question provides some practice cleaning variables which have common problems.\n",
        "1. Numeric variable: For `./data/airbnb_hw.csv`, clean the `Price` variable as well as you can, and explain the choices you make. How many missing values do you end up with? (Hint: What happens to the formatting when a price goes over 999 dollars, say from 675 to 1,112?)\n",
        "2. Categorical variable: For the `./data/sharks.csv` data covered in the lecture, clean the \"Type\" variable as well as you can, and explain the choices you make.\n",
        "3. Dummy variable: For the pretrial data covered in the lecture, clean the `WhetherDefendantWasReleasedPretrial` variable as well as you can, and, in particular, replace missing values with `np.nan`.\n",
        "4. Missing values, not at random: For the pretrial data covered in the lecture, clean the `ImposedSentenceAllChargeInContactEvent` variable as well as you can, and explain the choices you make. (Hint: Look at the `SentenceTypeAllChargesAtConvictionInContactEvent` variable.)"
      ]
    },
    {
      "cell_type": "code",
      "source": [
        "! git clone https://github.com/DS3001/wrangling\n",
        "import numpy as np\n",
        "import pandas as pd"
      ],
      "metadata": {
        "id": "Kmi7i6k55wLj",
        "outputId": "5ab440be-d816-4692-93da-f5c754567973",
        "colab": {
          "base_uri": "https://localhost:8080/"
        }
      },
      "id": "Kmi7i6k55wLj",
      "execution_count": 67,
      "outputs": [
        {
          "output_type": "stream",
          "name": "stdout",
          "text": [
            "Cloning into 'wrangling'...\n",
            "remote: Enumerating objects: 92, done.\u001b[K\n",
            "remote: Counting objects: 100% (52/52), done.\u001b[K\n",
            "remote: Compressing objects: 100% (34/34), done.\u001b[K\n",
            "remote: Total 92 (delta 42), reused 18 (delta 18), pack-reused 40 (from 1)\u001b[K\n",
            "Receiving objects: 100% (92/92), 18.08 MiB | 7.54 MiB/s, done.\n",
            "Resolving deltas: 100% (43/43), done.\n"
          ]
        }
      ]
    },
    {
      "cell_type": "code",
      "source": [
        "# 2.1\n",
        "url = 'https://raw.githubusercontent.com/rze7ud/wrangling/main/assignment/data/airbnb_hw.csv'\n",
        "df_airbnb = pd.read_csv(url, low_memory=False)\n",
        "\n",
        "# Printed unique values and saw that numbers were listed as strings and four digit numbers contained commas\n",
        "# df_airbnb['Price'].unique()\n",
        "\n",
        "# Delete commas\n",
        "df_airbnb['Price'] = df_airbnb['Price'].str.replace(',','')\n",
        "# Convert strings to numeric values\n",
        "df_airbnb['Price'] = pd.to_numeric(df_airbnb['Price'], errors='coerce')\n",
        "\n",
        "# Check for missing values (found 0 missing values)\n",
        "# df_airbnb['Price_nan'] = df_airbnb['Price'].isnull()\n",
        "# print(df_airbnb['Price_nan'].value_counts())\n",
        "\n",
        "# Final cleaned values\n",
        "print(df_airbnb['Price'].unique())\n",
        "print('0 Missing Values')"
      ],
      "metadata": {
        "id": "_jG45Qzi5vJU",
        "outputId": "0ace69bd-7d87-4703-dbf4-bab917a41859",
        "colab": {
          "base_uri": "https://localhost:8080/"
        }
      },
      "id": "_jG45Qzi5vJU",
      "execution_count": 50,
      "outputs": [
        {
          "output_type": "stream",
          "name": "stdout",
          "text": [
            "[  145    37    28   199   549   149   250    90   270   290   170    59\n",
            "    49    68   285    75   100   150   700   125   175    40    89    95\n",
            "    99   499   120    79   110   180   143   230   350   135    85    60\n",
            "    70    55    44   200   165   115    74    84   129    50   185    80\n",
            "   190   140    45    65   225   600   109  1990    73   240    72   105\n",
            "   155   160    42   132   117   295   280   159   107    69   239   220\n",
            "   399   130   375   585   275   139   260    35   133   300   289   179\n",
            "    98   195    29    27    39   249   192   142   169  1000   131   138\n",
            "   113   122   329   101   475   238   272   308   126   235   315   248\n",
            "   128    56   207   450   215   210   385   445   136   247   118    77\n",
            "    76    92   198   205   299   222   245   104   153   349   114   320\n",
            "   292   226   420   500   325   307    78   265   108   123   189    32\n",
            "    58    86   219   800   335    63   229   425    67    87  1200   158\n",
            "   650   234   310   695   400   166   119    62   168   340   479    43\n",
            "   395   144    52    47   529   187   209   233    82   269   163   172\n",
            "   305   156   550   435   137   124    48   279   330  5000   134   378\n",
            "    97   277    64   193   147   186   264    30  3000   112    94   379\n",
            "    57   415   236   410   214    88    66    71   171   157   545  1500\n",
            "    83    96  1800    81   188   380   255   505    54    33   174    93\n",
            "   740   640  1300   440   599   357  1239   495   127  5999   178   348\n",
            "   152   242   183   253   750   259   365   273   197   397   103   389\n",
            "   355   559    38   203   999   141   162   333   698    46   360   895\n",
            "    10    41   206   281   449   388   212   102   201  2750  4750   432\n",
            "   675   167   390   298   339   194   302   211   595   191    53   361\n",
            "   480  8000  4500   459   997   345   216   218   111   735   276    91\n",
            "   490   850   398    36   775   267   625   336  2500   176   725  3750\n",
            "   469   106   460   287   575   227   263    25   228   208   177   880\n",
            "   148   116   685   470   217   164    61   645   699   405   252   319\n",
            "   268   419   343   525   311   840   154   294   950   409   184   257\n",
            "   204   241  2000   412   121   288   196   900   647   524  1750   309\n",
            "   510  1495  1700   799   383   372   492   327  1999   656   224   173\n",
            "   875  1170   795   690   146   465  1100   151   274   429   825   282\n",
            "   256  1111   620   271   161    51   855   579  1174   430    20   899\n",
            "   649   485   181   455  4000   243   342   590   560   374   437   232\n",
            "   359   985    31   244   254   723   237   428   370    34  1400   580\n",
            "  2520   221   749  1600  2695   306   202   680   570   520   223  2295\n",
            "   213  1065   346    24   286   296   266    26   995  1368   393   182\n",
            "   635   258   780   589   347  1250  1350   446  3200  1050  1650  1550\n",
            "   975   323  6500  2499  1850  2250   715   461   540   356   439   384\n",
            "   569  1900    22   785   626   830   318   444   321   401  1499   888\n",
            "   369   770   386   366   344   630   313   597   262   509 10000   278\n",
            "   312   789  1195   422    21   765  3500   945   326  3100  2486  3390\n",
            "  1356  2599   472   454   328   396   291]\n",
            "0 Missing Values\n"
          ]
        }
      ]
    },
    {
      "cell_type": "code",
      "source": [
        "# 2.2\n",
        "url = 'https://raw.githubusercontent.com/rze7ud/wrangling/main/assignment/data/sharks.csv'\n",
        "df_sharks = pd.read_csv(url, low_memory=False)\n",
        "\n",
        "# Printed count of values and saw that there are multiple types of Watercraft and Invalid types that can be combined\n",
        "# print(df_sharks['Type'].value_counts())\n",
        "\n",
        "# Change Boat, Boating, Boatomg and Sea Disaster into Watercraft\n",
        "df_sharks['Type'] = df_sharks['Type'].replace(['Boat', 'Boating', 'Boatomg', 'Sea Disaster'], 'Watercraft')\n",
        "# Change Unconfirmed, Unverified, Invalid, Questionable, Under Investigation into numpy nan\n",
        "df_sharks['Type'] = df_sharks['Type'].replace(['Unconfirmed', 'Unverified', 'Invalid', 'Questionable', 'Under investigation'], np.nan)\n",
        "\n",
        "# Final cleaned values\n",
        "print(df_sharks['Type'].value_counts())"
      ],
      "metadata": {
        "id": "37ysUa_o5wsD",
        "outputId": "d9228da3-ea62-47e9-f50a-72f031edc80d",
        "colab": {
          "base_uri": "https://localhost:8080/"
        }
      },
      "id": "37ysUa_o5wsD",
      "execution_count": 57,
      "outputs": [
        {
          "output_type": "stream",
          "name": "stdout",
          "text": [
            "Type\n",
            "Unprovoked    4716\n",
            "Provoked       593\n",
            "Watercraft     583\n",
            "Name: count, dtype: int64\n"
          ]
        }
      ]
    },
    {
      "cell_type": "code",
      "source": [
        "# 2.3\n",
        "# Uploaded justice_data.parquet to my google colab session with intitial git clone\n",
        "df_justice = pd.read_parquet(\"/content/wrangling/data/justice_data.parquet\")\n",
        "\n",
        "# Printed count of values and saw that 0 means no, 1 means yes and 9 means unclear\n",
        "# print(df_justice['WhetherDefendantWasReleasedPretrial'].value_counts())\n",
        "\n",
        "# Replace instances of 9 with numpy nan\n",
        "df_justice['WhetherDefendantWasReleasedPretrial'] = df_justice['WhetherDefendantWasReleasedPretrial'].replace(9, np.nan)\n",
        "\n",
        "# Final cleaned values\n",
        "print(df_justice['WhetherDefendantWasReleasedPretrial'].value_counts())"
      ],
      "metadata": {
        "id": "wvjRy-N_5x60",
        "outputId": "4bd5c78e-97a9-4548-8b99-a1284e0c0862",
        "colab": {
          "base_uri": "https://localhost:8080/"
        }
      },
      "id": "wvjRy-N_5x60",
      "execution_count": 90,
      "outputs": [
        {
          "output_type": "stream",
          "name": "stdout",
          "text": [
            "WhetherDefendantWasReleasedPretrial\n",
            "1.0    19154\n",
            "0.0     3801\n",
            "Name: count, dtype: int64\n"
          ]
        }
      ]
    },
    {
      "cell_type": "code",
      "source": [
        "# 2.4\n",
        "# Printed unique values and saw that there are 9053 missing values and values are strings\n",
        "# print(df_justice['ImposedSentenceAllChargeInContactEvent'].value_counts())\n",
        "# print(df_justice['SentenceTypeAllChargesAtConvictionInContactEvent'].value_counts())\n",
        "\n",
        "# Convert strings to numeric values\n",
        "df_justice['ImposedSentenceAllChargeInContactEvent'] = pd.to_numeric(df_justice['ImposedSentenceAllChargeInContactEvent'], errors='coerce')\n",
        "\n",
        "# SentenceType Code 4 (Other, all charges in cohort contact resulted in pending, dismissed, deferred, etc.)\n",
        "df_justice['ImposedSentenceAllChargeInContactEvent'] = df_justice['ImposedSentenceAllChargeInContactEvent'].mask( df_justice['SentenceTypeAllChargesAtConvictionInContactEvent'] == 4, 0)\n",
        "# SentenceType Code 9 (Not applicable (e.g., disposition record not found, or unknown)\n",
        "df_justice['ImposedSentenceAllChargeInContactEvent'] = df_justice['ImposedSentenceAllChargeInContactEvent'].mask( df_justice['SentenceTypeAllChargesAtConvictionInContactEvent'] == 9, np.nan)\n",
        "\n",
        "# Checked remaining missing values (274)\n",
        "df_justice['Imposed_nan'] = df_justice['ImposedSentenceAllChargeInContactEvent'].isnull()\n",
        "print(df_justice['Imposed_nan'].value_counts())\n",
        "\n",
        "# Final cleaned values\n",
        "print(df_justice['ImposedSentenceAllChargeInContactEvent'].value_counts())"
      ],
      "metadata": {
        "id": "CBb-7aig5yR1",
        "outputId": "8bdde467-12ea-4ea9-98dc-5096222cbc39",
        "colab": {
          "base_uri": "https://localhost:8080/"
        }
      },
      "id": "CBb-7aig5yR1",
      "execution_count": 91,
      "outputs": [
        {
          "output_type": "stream",
          "name": "stdout",
          "text": [
            "Imposed_nan\n",
            "False    22712\n",
            "True       274\n",
            "Name: count, dtype: int64\n",
            "ImposedSentenceAllChargeInContactEvent\n",
            "0.000000     13732\n",
            "12.000000     1404\n",
            "0.985626      1051\n",
            "6.000000       809\n",
            "3.000000       787\n",
            "             ...  \n",
            "49.971253        1\n",
            "57.034908        1\n",
            "79.926078        1\n",
            "42.164271        1\n",
            "1.657084         1\n",
            "Name: count, Length: 483, dtype: int64\n"
          ]
        }
      ]
    },
    {
      "cell_type": "markdown",
      "id": "649494cd-cfd6-4f80-992a-9994fc19e1d5",
      "metadata": {
        "id": "649494cd-cfd6-4f80-992a-9994fc19e1d5"
      },
      "source": [
        "**Q3.** Many important datasets contain a race variable, typically limited to a handful of values often including Black, White, Asian, Latino, and Indigenous. This question looks at data gathering efforts on this variable by the U.S. Federal government.\n",
        "\n",
        "1. How did the most recent US Census gather data on race?\n",
        "2. Why do we gather these data? What role do these kinds of data play in politics and society? Why does data quality matter?\n",
        "3. Please provide a constructive criticism of how the Census was conducted: What was done well? What do you think was missing? How should future large scale surveys be adjusted to best reflect the diversity of the population? Could some of the Census' good practices be adopted more widely to gather richer and more useful data?\n",
        "4. How did the Census gather data on sex and gender? Please provide a similar constructive criticism of their practices.\n",
        "5. When it comes to cleaning data, what concerns do you have about protected characteristics like sex, gender, sexual identity, or race? What challenges can you imagine arising when there are missing values? What good or bad practices might people adopt, and why?\n",
        "6. Suppose someone invented an algorithm to impute values for protected characteristics like race, gender, sex, or sexuality. What kinds of concerns would you have?"
      ]
    }
  ],
  "metadata": {
    "colab": {
      "provenance": []
    },
    "kernelspec": {
      "display_name": "Python 3 (ipykernel)",
      "language": "python",
      "name": "python3"
    },
    "language_info": {
      "codemirror_mode": {
        "name": "ipython",
        "version": 3
      },
      "file_extension": ".py",
      "mimetype": "text/x-python",
      "name": "python",
      "nbconvert_exporter": "python",
      "pygments_lexer": "ipython3",
      "version": "3.10.4"
    }
  },
  "nbformat": 4,
  "nbformat_minor": 5
}